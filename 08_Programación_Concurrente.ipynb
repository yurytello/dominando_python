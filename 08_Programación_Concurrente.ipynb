{
  "nbformat": 4,
  "nbformat_minor": 0,
  "metadata": {
    "colab": {
      "provenance": []
    },
    "kernelspec": {
      "name": "python3",
      "display_name": "Python 3"
    },
    "language_info": {
      "name": "python"
    }
  },
  "cells": [
    {
      "cell_type": "markdown",
      "source": [
        "## Threads\n",
        "\n",
        "La clase Thread representa una actividad que corre en un hilo de control separado. Hay dos manera de especificar la tarea: pasando un objeto invocable al constructor, o sobrescribiendo el método run() en una subclase."
      ],
      "metadata": {
        "id": "Slqxk_1rHsZS"
      }
    },
    {
      "cell_type": "code",
      "source": [
        "import threading\n",
        "import time\n",
        "\n",
        "# Función que será ejecutada por un hilo\n",
        "def tarea(nombre, duracion):\n",
        "    print(f\"Iniciando {nombre} {time.strftime('%H:%M:%S', time.gmtime())} .. \")\n",
        "    time.sleep(duracion)  # Simula un trabajo que toma 'duracion' segundos\n",
        "    print(f\" .. Finalizando {nombre} {time.strftime('%H:%M:%S', time.gmtime())}\")\n",
        "\n",
        "# Crear dos hilos\n",
        "hilo1 = threading.Thread(target=tarea, args=(\"Tarea 1\", 2))\n",
        "hilo2 = threading.Thread(target=tarea, args=(\"Tarea 2\", 4))\n",
        "\n",
        "inicio = time.time()\n",
        "\n",
        "# Iniciar los hilos\n",
        "hilo1.start()\n",
        "hilo2.start()\n",
        "\n",
        "# Esperar a que los hilos terminen\n",
        "hilo1.join()\n",
        "hilo2.join()\n",
        "\n",
        "fin = time.time()\n",
        "print(f\"Tiempo total de ejecución: {fin - inicio} segundos\")"
      ],
      "metadata": {
        "colab": {
          "base_uri": "https://localhost:8080/"
        },
        "id": "MepaZEKgEpqr",
        "outputId": "6f471ce9-3341-4ee9-bffe-5bc1f48959c0"
      },
      "execution_count": null,
      "outputs": [
        {
          "output_type": "stream",
          "name": "stdout",
          "text": [
            "Iniciando Tarea 1 17:25:15 .. \n",
            "Iniciando Tarea 2 17:25:15 .. \n",
            " .. Finalizando Tarea 1 17:25:17\n",
            " .. Finalizando Tarea 2 17:25:19\n",
            "Tiempo total de ejecución: 4.011228799819946 segundos\n"
          ]
        }
      ]
    },
    {
      "cell_type": "markdown",
      "source": [
        "## Multiprocessing\n",
        "\n",
        "El paquete multiprocessing ofrece simultaneidad tanto local como remota, evitando eficazmente el bloqueo del intérprete global (GIL) mediante el uso de subprocesos en lugar de hilos."
      ],
      "metadata": {
        "id": "tzkdBQtpKvm6"
      }
    },
    {
      "cell_type": "code",
      "execution_count": null,
      "metadata": {
        "colab": {
          "base_uri": "https://localhost:8080/"
        },
        "id": "UImf6xYpyTyg",
        "outputId": "f501a90b-d658-4605-acb2-1f24add495ab"
      },
      "outputs": [
        {
          "output_type": "stream",
          "name": "stdout",
          "text": [
            "x: 3 .. \n",
            "x: 4 .. x: 1 .. x: 0 .. x: 2 .. \n",
            "\n",
            "\n",
            "x: 5 .. \n",
            "\n",
            "x: 7 .. x: 6 .. x: 9 .. x: 8 .. \n",
            "\n",
            "\n",
            "\n",
            "[1, 1, 4, 27, 256, 3125, 46656, 823543, 16777216, 387420489]\n"
          ]
        }
      ],
      "source": [
        "from multiprocessing import Pool\n",
        "\n",
        "def f(x):\n",
        "    print(f'x: {x} .. ')\n",
        "    return x**x\n",
        "\n",
        "#X = [1, 2, 3, 4]\n",
        "X = range(10)\n",
        "\n",
        "if __name__ == '__main__':\n",
        "    with Pool(5) as p:\n",
        "        print(p.map(f, X))"
      ]
    },
    {
      "cell_type": "code",
      "source": [
        "from multiprocessing import Process\n",
        "import os\n",
        "\n",
        "def info(title):\n",
        "    print(title)\n",
        "    print('module name:', __name__)\n",
        "    print('parent process:', os.getppid())\n",
        "    print('process id:', os.getpid())\n",
        "    print()\n",
        "\n",
        "def f(name):\n",
        "    info('function f')\n",
        "    print('hello', name)\n",
        "\n",
        "if __name__ == '__main__':\n",
        "    info('main line')\n",
        "    p = Process(target=f, args=('bob',))\n",
        "    p.start()\n",
        "    p.join()"
      ],
      "metadata": {
        "colab": {
          "base_uri": "https://localhost:8080/"
        },
        "id": "AuohOvpr3bnf",
        "outputId": "f115b79c-593d-4058-c46d-67970a7c7094"
      },
      "execution_count": null,
      "outputs": [
        {
          "output_type": "stream",
          "name": "stdout",
          "text": [
            "main line\n",
            "module name: __main__\n",
            "parent process: 98\n",
            "process id: 851\n",
            "\n",
            "function f\n",
            "module name: __main__\n",
            "parent process: 851\n",
            "process id: 5616\n",
            "\n",
            "hello bob\n"
          ]
        }
      ]
    },
    {
      "cell_type": "markdown",
      "source": [
        "## Asyncio\n",
        "\n",
        "asyncio es una biblioteca para escribir código concurrente utilizando la sintaxis async/await."
      ],
      "metadata": {
        "id": "zBROjV97K1qW"
      }
    },
    {
      "cell_type": "code",
      "source": [
        "import asyncio\n",
        "\n",
        "inicio = time.time()\n",
        "\n",
        "print(\"Hello ...\")\n",
        "await asyncio.sleep(3, result=print('... World'))\n",
        "await asyncio.sleep(6, result=print('... World'))\n",
        "\n",
        "fin = time.time()\n",
        "print(f\"Tiempo total de ejecución: {fin - inicio} segundos\")"
      ],
      "metadata": {
        "colab": {
          "base_uri": "https://localhost:8080/"
        },
        "id": "VDTiufEt6zRh",
        "outputId": "0d64b7d0-157a-4ecb-ec05-fd275007e637"
      },
      "execution_count": null,
      "outputs": [
        {
          "output_type": "stream",
          "name": "stdout",
          "text": [
            "Hello ...\n",
            "... World\n",
            "... World\n",
            "Tiempo total de ejecución: 9.01436710357666 segundos\n"
          ]
        }
      ]
    },
    {
      "cell_type": "code",
      "source": [
        "import asyncio\n",
        "\n",
        "# Definir una corutina (función async) que simula una tarea\n",
        "async def tarea(nombre, duracion):\n",
        "    print(f\"Iniciando {nombre} {time.strftime('%H:%M:%S', time.gmtime())} .. \")\n",
        "    await asyncio.sleep(duracion)  # Simula un trabajo que toma 'duracion' segundos\n",
        "    print(f\" .. Finalizando {nombre} {time.strftime('%H:%M:%S', time.gmtime())}\")\n",
        "\n",
        "inicio = time.time()\n",
        "\n",
        "# Crear y ejecutar tareas de forma concurrente\n",
        "await asyncio.gather(\n",
        "    tarea(\"Tarea 1\", 3),\n",
        "    tarea(\"Tarea 2\", 5)\n",
        ")\n",
        "\n",
        "fin = time.time()\n",
        "print(f\"Tiempo total de ejecución: {fin - inicio} segundos\")"
      ],
      "metadata": {
        "colab": {
          "base_uri": "https://localhost:8080/"
        },
        "id": "1UzIr-rsMoj_",
        "outputId": "de9b1696-be4c-49b9-c092-2c7d572ec9e0"
      },
      "execution_count": null,
      "outputs": [
        {
          "output_type": "stream",
          "name": "stdout",
          "text": [
            "Iniciando Tarea 1 17:34:28 .. \n",
            "Iniciando Tarea 2 17:34:28 .. \n",
            " .. Finalizando Tarea 1 17:34:31\n",
            " .. Finalizando Tarea 2 17:34:33\n",
            "Tiempo total de ejecución: 5.002479076385498 segundos\n"
          ]
        }
      ]
    }
  ]
}