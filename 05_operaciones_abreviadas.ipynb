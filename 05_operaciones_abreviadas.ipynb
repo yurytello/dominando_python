{
  "nbformat": 4,
  "nbformat_minor": 0,
  "metadata": {
    "colab": {
      "provenance": []
    },
    "kernelspec": {
      "name": "python3",
      "display_name": "Python 3"
    },
    "language_info": {
      "name": "python"
    }
  },
  "cells": [
    {
      "cell_type": "markdown",
      "source": [
        "Condicionales Abreviadas"
      ],
      "metadata": {
        "id": "2qdRFXeO5Iv5"
      }
    },
    {
      "cell_type": "code",
      "execution_count": null,
      "metadata": {
        "id": "O0D_hqrb4lWz"
      },
      "outputs": [],
      "source": [
        "condicion = True\n",
        "\n",
        "if condicion:\n",
        "  print(\"Condicion Verdadera\")\n",
        "else:\n",
        "  print(\"Condicion Falsa\")"
      ]
    },
    {
      "cell_type": "code",
      "source": [
        "mensaje = \"Condicion Verdadera\" if condicion else \"Condicion Falsa\"\n",
        "print(mensaje)"
      ],
      "metadata": {
        "id": "Xrj8c6Wy6jCN"
      },
      "execution_count": null,
      "outputs": []
    },
    {
      "cell_type": "code",
      "source": [
        "mensaje = condicion and \"Condicion Verdadera\" or \"Condicion Falsa\"\n",
        "print(mensaje)"
      ],
      "metadata": {
        "id": "LZdJ4X3J6l8v"
      },
      "execution_count": null,
      "outputs": []
    },
    {
      "cell_type": "markdown",
      "source": [
        "Colecciones Comprimidas"
      ],
      "metadata": {
        "id": "8VGmXgru7Bek"
      }
    },
    {
      "cell_type": "code",
      "source": [
        "l = []\n",
        "for i in range(10):\n",
        "  l.append(i)\n",
        "print(l)"
      ],
      "metadata": {
        "id": "NN2NcrN37KWP"
      },
      "execution_count": null,
      "outputs": []
    },
    {
      "cell_type": "code",
      "source": [
        "l = [i for i in range(10)]\n",
        "print(l)"
      ],
      "metadata": {
        "id": "LX3yhy-57jmi"
      },
      "execution_count": null,
      "outputs": []
    },
    {
      "cell_type": "code",
      "source": [
        "t = tuple(i for i in range(10))\n",
        "print(t)"
      ],
      "metadata": {
        "id": "d8D7f58x8hut"
      },
      "execution_count": null,
      "outputs": []
    },
    {
      "cell_type": "code",
      "source": [
        "s = {i for i in range(10)}\n",
        "print(s)"
      ],
      "metadata": {
        "id": "Kh_kXhmv8C6O"
      },
      "execution_count": null,
      "outputs": []
    },
    {
      "cell_type": "code",
      "source": [
        "d = {chr(i): i for i in range(65, 75)}\n",
        "print(d)"
      ],
      "metadata": {
        "id": "4bawoxk68-9z"
      },
      "execution_count": null,
      "outputs": []
    },
    {
      "cell_type": "markdown",
      "source": [
        "Funciones Anónimas"
      ],
      "metadata": {
        "id": "77ecohDy-uvk"
      }
    },
    {
      "cell_type": "code",
      "source": [
        "def sumar(a, b):\n",
        "  return a + b\n",
        "\n",
        "print(sumar(1, 2))"
      ],
      "metadata": {
        "id": "42IjAQTw-v3c"
      },
      "execution_count": null,
      "outputs": []
    },
    {
      "cell_type": "code",
      "source": [
        "m = lambda a, b: a + b\n",
        "print(m(1, 2))"
      ],
      "metadata": {
        "id": "NBTjoleTAGWE"
      },
      "execution_count": null,
      "outputs": []
    },
    {
      "cell_type": "code",
      "source": [
        "factorial = lambda x: 1 if x <= 1 else x * factorial(x - 1)\n",
        "print(factorial(5))"
      ],
      "metadata": {
        "id": "nMkSUrVh7rFl"
      },
      "execution_count": null,
      "outputs": []
    },
    {
      "cell_type": "markdown",
      "source": [
        "Gestión de colecciones con funciones anónimas"
      ],
      "metadata": {
        "id": "qVbIY4TeKiVa"
      }
    },
    {
      "cell_type": "code",
      "source": [
        "x = map(lambda x: x ** 2, l)\n",
        "print(list(x))"
      ],
      "metadata": {
        "id": "iGe2tNJz_Ffl"
      },
      "execution_count": null,
      "outputs": []
    },
    {
      "cell_type": "code",
      "source": [
        "x = filter(lambda x: x % 2 == 0, l)\n",
        "print(list(x))"
      ],
      "metadata": {
        "id": "3LixQm3R-ncT"
      },
      "execution_count": null,
      "outputs": []
    },
    {
      "cell_type": "code",
      "source": [
        "l.sort(key=lambda x: x % 2)\n",
        "print(l)"
      ],
      "metadata": {
        "id": "gQMK1Uca_NyU"
      },
      "execution_count": null,
      "outputs": []
    }
  ]
}