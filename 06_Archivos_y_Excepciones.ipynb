{
  "nbformat": 4,
  "nbformat_minor": 0,
  "metadata": {
    "colab": {
      "provenance": []
    },
    "kernelspec": {
      "name": "python3",
      "display_name": "Python 3"
    },
    "language_info": {
      "name": "python"
    }
  },
  "cells": [
    {
      "cell_type": "markdown",
      "source": [
        "## Escribir un archivo"
      ],
      "metadata": {
        "id": "Vnt5Cl3eAhHy"
      }
    },
    {
      "cell_type": "code",
      "execution_count": 3,
      "metadata": {
        "id": "PUU_Fw5OmWK4"
      },
      "outputs": [],
      "source": [
        "with open(\"archivo.txt\", \"w\") as archivo:\n",
        "    archivo.write(\"Hola, Mundo!\")"
      ]
    },
    {
      "cell_type": "markdown",
      "source": [
        "## Leer un archivo"
      ],
      "metadata": {
        "id": "_Hxn5aFsAc8U"
      }
    },
    {
      "cell_type": "code",
      "source": [
        "try:\n",
        "    with open(\"archivo.txt\", \"r\") as archivo:\n",
        "        contenido = archivo.read()\n",
        "    print(contenido)\n",
        "except FileNotFoundError:\n",
        "    print(\"Error: El archivo no existe.\")\n",
        "finally:\n",
        "    print(\"Proceso terminado.\")"
      ],
      "metadata": {
        "id": "3ZnO6_UYAnVp"
      },
      "execution_count": null,
      "outputs": []
    }
  ]
}